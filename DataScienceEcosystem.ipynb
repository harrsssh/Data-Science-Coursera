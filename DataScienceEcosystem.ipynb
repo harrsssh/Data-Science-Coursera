{
 "cells": [
  {
   "cell_type": "markdown",
   "id": "6bcc326a",
   "metadata": {},
   "source": [
    "<h1>Data Science Tools and Ecosystem</h1>"
   ]
  },
  {
   "cell_type": "markdown",
   "id": "afaa6c0d",
   "metadata": {},
   "source": [
    "<p>In this notebook, Data Science Tools and Ecosystem are summarized.</p>"
   ]
  },
  {
   "cell_type": "markdown",
   "id": "80be8970",
   "metadata": {},
   "source": [
    "<p>Some of the popular languages that Data Scientists use: </p>\n",
    "<ol>\n",
    "    <li>Python</li>\n",
    "    <li>R langugage</li>\n",
    "    <li>Java</li>\n",
    "</ol>"
   ]
  },
  {
   "cell_type": "markdown",
   "id": "648b381e",
   "metadata": {},
   "source": [
    "<p>Some of the commonly used libraries used by Data Scientists include:</p>\n",
    "<ol>\n",
    "  <li>NumPy</li>\n",
    "  <li>SciPy</li>\n",
    "  <li>Pandas</li>\n",
    "</ol>"
   ]
  },
  {
   "cell_type": "markdown",
   "id": "37b2bdc5",
   "metadata": {},
   "source": [
    "| Data Science Tools |\n",
    "| ------------------ |\n",
    "| Jupyter Notebook   |\n",
    "| Zeppelin Notebook  |\n",
    "| R Studio   |\n"
   ]
  },
  {
   "cell_type": "markdown",
   "id": "5459ec04",
   "metadata": {},
   "source": [
    "<h3>Below are a few examples of evaluating arithmetic expressions in Python</h3>"
   ]
  },
  {
   "cell_type": "code",
   "execution_count": 1,
   "id": "b4efb679",
   "metadata": {},
   "outputs": [
    {
     "data": {
      "text/plain": [
       "17"
      ]
     },
     "execution_count": 1,
     "metadata": {},
     "output_type": "execute_result"
    }
   ],
   "source": [
    "# This a simple arithmetic expression to mutiply then add integers\n",
    "(3*4)+5"
   ]
  },
  {
   "cell_type": "code",
   "execution_count": 2,
   "id": "ea38126e",
   "metadata": {},
   "outputs": [
    {
     "name": "stdout",
     "output_type": "stream",
     "text": [
      "3.3333333333333335\n"
     ]
    }
   ],
   "source": [
    "# This will convert 200 minutes to hours by diving by 60\n",
    "min = 200\n",
    "hours = 200/60\n",
    "print(hours)"
   ]
  },
  {
   "cell_type": "markdown",
   "id": "532fe03c",
   "metadata": {},
   "source": [
    "<b>Objectives:</b>\n",
    "<ul>\n",
    "  <li>Some popular languages used in Data Science</li>\n",
    "  <li>Some commonly used libraries in Data Science</li>\n",
    "  <li>some common open source Data Science Tools and Environments</li>\n",
    "</ul>"
   ]
  },
  {
   "cell_type": "markdown",
   "id": "beae535b",
   "metadata": {},
   "source": [
    "<h2>Author</h2>\n",
    "<p>Harsh Patidar</p>"
   ]
  },
  {
   "cell_type": "code",
   "execution_count": null,
   "id": "c3befc13",
   "metadata": {},
   "outputs": [],
   "source": []
  }
 ],
 "metadata": {
  "kernelspec": {
   "display_name": "Python 3 (ipykernel)",
   "language": "python",
   "name": "python3"
  },
  "language_info": {
   "codemirror_mode": {
    "name": "ipython",
    "version": 3
   },
   "file_extension": ".py",
   "mimetype": "text/x-python",
   "name": "python",
   "nbconvert_exporter": "python",
   "pygments_lexer": "ipython3",
   "version": "3.9.13"
  }
 },
 "nbformat": 4,
 "nbformat_minor": 5
}
